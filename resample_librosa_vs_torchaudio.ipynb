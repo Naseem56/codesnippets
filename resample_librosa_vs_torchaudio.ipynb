{
 "cells": [
  {
   "cell_type": "code",
   "execution_count": 25,
   "id": "1e3cc132-da44-4acf-ade8-c44162490aba",
   "metadata": {},
   "outputs": [],
   "source": [
    "from datasets import load_dataset\n",
    "import datasets\n",
    "import torchaudio\n",
    "import numpy as np\n",
    "import torch"
   ]
  },
  {
   "cell_type": "code",
   "execution_count": 14,
   "id": "e44f6a87-23bc-4f84-9907-771c7e25aa9c",
   "metadata": {},
   "outputs": [],
   "source": [
    "dataset_cache_dir = \"/home/sanchitgandhi/cache/huggingface/datasets\""
   ]
  },
  {
   "cell_type": "code",
   "execution_count": 15,
   "id": "3c386dbf-eada-4441-89e7-20c9d977ae82",
   "metadata": {},
   "outputs": [
    {
     "name": "stderr",
     "output_type": "stream",
     "text": [
      "Reusing dataset switchboard (/home/sanchitgandhi/cache/huggingface/datasets/switchboard/switchboard/1.1.0/dae178d6d13fe90241277e548542a56b7db74c8ce4d14acff28905b2cbb89f4a)\n"
     ]
    }
   ],
   "source": [
    "swbd = load_dataset(\"/home/sanchitgandhi/datasets/datasets/switchboard\", \"switchboard\", split=\"train[:1000]\", cache_dir=dataset_cache_dir, use_auth_token=True, ignore_verifications=True)"
   ]
  },
  {
   "cell_type": "code",
   "execution_count": 16,
   "id": "a814d998-7f74-4eb8-9646-e43cb4603cb6",
   "metadata": {},
   "outputs": [
    {
     "data": {
      "text/plain": [
       "Dataset({\n",
       "    features: ['audio', 'text', 'file', 'id'],\n",
       "    num_rows: 1000\n",
       "})"
      ]
     },
     "execution_count": 16,
     "metadata": {},
     "output_type": "execute_result"
    }
   ],
   "source": [
    "swbd"
   ]
  },
  {
   "cell_type": "code",
   "execution_count": 17,
   "id": "2d601e41-b486-4167-84d0-446bbc12086d",
   "metadata": {},
   "outputs": [],
   "source": [
    "swbd_resampled = swbd.cast_column(\n",
    "        \"audio\", datasets.features.Audio(sampling_rate=16_000)\n",
    "    )\n",
    "\n",
    "def prepare_dataset(batch):\n",
    "    sample = batch[\"audio\"]\n",
    "    batch[\"resampled_inputs\"] = sample[\"array\"]\n",
    "    batch[\"resampled_sampling_rate\"] = sample[\"sampling_rate\"]\n",
    "    return batch"
   ]
  },
  {
   "cell_type": "code",
   "execution_count": 18,
   "id": "7e70195d-9cb7-4615-b6a6-393f5f7d129b",
   "metadata": {},
   "outputs": [
    {
     "name": "stderr",
     "output_type": "stream",
     "text": [
      "Loading cached processed dataset at /home/sanchitgandhi/cache/huggingface/datasets/switchboard/switchboard/1.1.0/dae178d6d13fe90241277e548542a56b7db74c8ce4d14acff28905b2cbb89f4a/cache-756e92b00c4436e3.arrow\n"
     ]
    },
    {
     "name": "stdout",
     "output_type": "stream",
     "text": [
      "CPU times: user 3.42 ms, sys: 3.82 ms, total: 7.24 ms\n",
      "Wall time: 7.21 ms\n"
     ]
    }
   ],
   "source": [
    "%%time\n",
    "\n",
    "swbd_resampled = swbd_resampled.map(\n",
    "        prepare_dataset,\n",
    "        remove_columns=swbd_resampled.column_names,\n",
    "        num_proc=1,\n",
    "        desc=\"preprocess train dataset\",\n",
    ")"
   ]
  },
  {
   "cell_type": "code",
   "execution_count": 28,
   "id": "d40438b6-b9f0-4f13-a167-bdfa9d8f88ab",
   "metadata": {},
   "outputs": [],
   "source": [
    "resampler = torchaudio.transforms.Resample(8_000, 16_000)\n",
    "\n",
    "def prepare_dataset(batch):\n",
    "    sample = batch[\"audio\"][\"array\"]\n",
    "    speech_tensor = torch.FloatTensor(sample)\n",
    "    speech_tensor = speech_tensor.squeeze()\n",
    "    speech_tensor = resampler(speech_tensor)\n",
    "    sampling_rate = resampler.new_freq\n",
    "    \n",
    "    batch[\"resampled_inputs\"] = speech_tensor.numpy()\n",
    "    batch[\"resampled_sampling_rate\"] = sampling_rate\n",
    "    return batch"
   ]
  },
  {
   "cell_type": "code",
   "execution_count": 29,
   "id": "d0cf0541-7581-4e51-ac07-2b176ae6f7af",
   "metadata": {},
   "outputs": [
    {
     "name": "stderr",
     "output_type": "stream",
     "text": [
      "preprocess train dataset: 100%|████████████████████████████████████████████████████| 1000/1000 [00:05<00:00, 197.88ex/s]\n"
     ]
    },
    {
     "name": "stdout",
     "output_type": "stream",
     "text": [
      "CPU times: user 2min 48s, sys: 2.39 s, total: 2min 51s\n",
      "Wall time: 5.42 s\n"
     ]
    }
   ],
   "source": [
    "%%time\n",
    "\n",
    "swbd_resampled_torchaudio = swbd.map(\n",
    "        prepare_dataset,\n",
    "        remove_columns=swbd.column_names,\n",
    "        num_proc=1,\n",
    "        desc=\"preprocess train dataset\",\n",
    ")"
   ]
  },
  {
   "cell_type": "markdown",
   "id": "8fda5711-99a5-423c-bfb6-e881a9001516",
   "metadata": {},
   "source": [
    "Librosa: 78s\n",
    "\n",
    "torchaudio: 5.4s (14x faster)"
   ]
  },
  {
   "cell_type": "code",
   "execution_count": null,
   "id": "5f8240df-1539-4234-a94c-ce2b93c363c5",
   "metadata": {},
   "outputs": [],
   "source": []
  }
 ],
 "metadata": {
  "kernelspec": {
   "display_name": "Python 3 (ipykernel)",
   "language": "python",
   "name": "python3"
  },
  "language_info": {
   "codemirror_mode": {
    "name": "ipython",
    "version": 3
   },
   "file_extension": ".py",
   "mimetype": "text/x-python",
   "name": "python",
   "nbconvert_exporter": "python",
   "pygments_lexer": "ipython3",
   "version": "3.8.10"
  }
 },
 "nbformat": 4,
 "nbformat_minor": 5
}
