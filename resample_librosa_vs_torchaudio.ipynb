{
 "cells": [
  {
   "cell_type": "code",
   "execution_count": 1,
   "id": "1e3cc132-da44-4acf-ade8-c44162490aba",
   "metadata": {},
   "outputs": [
    {
     "name": "stderr",
     "output_type": "stream",
     "text": [
      "/home/sanchitgandhi/hf/lib/python3.8/site-packages/tqdm/auto.py:22: TqdmWarning: IProgress not found. Please update jupyter and ipywidgets. See https://ipywidgets.readthedocs.io/en/stable/user_install.html\n",
      "  from .autonotebook import tqdm as notebook_tqdm\n"
     ]
    }
   ],
   "source": [
    "from datasets import load_dataset\n",
    "import datasets\n",
    "import torchaudio"
   ]
  },
  {
   "cell_type": "code",
   "execution_count": 2,
   "id": "e44f6a87-23bc-4f84-9907-771c7e25aa9c",
   "metadata": {},
   "outputs": [],
   "source": [
    "dataset_cache_dir = \"/home/sanchitgandhi/cache/huggingface/datasets\""
   ]
  },
  {
   "cell_type": "code",
   "execution_count": 3,
   "id": "3c386dbf-eada-4441-89e7-20c9d977ae82",
   "metadata": {},
   "outputs": [
    {
     "name": "stderr",
     "output_type": "stream",
     "text": [
      "Reusing dataset switchboard (/home/sanchitgandhi/cache/huggingface/datasets/switchboard/switchboard/1.1.0/dae178d6d13fe90241277e548542a56b7db74c8ce4d14acff28905b2cbb89f4a)\n"
     ]
    }
   ],
   "source": [
    "swbd = load_dataset(\"/home/sanchitgandhi/datasets/datasets/switchboard\", \"switchboard\", split=\"train[:1000]\", cache_dir=dataset_cache_dir, use_auth_token=True, ignore_verifications=True)"
   ]
  },
  {
   "cell_type": "code",
   "execution_count": 4,
   "id": "a814d998-7f74-4eb8-9646-e43cb4603cb6",
   "metadata": {},
   "outputs": [
    {
     "data": {
      "text/plain": [
       "Dataset({\n",
       "    features: ['audio', 'text', 'file', 'id'],\n",
       "    num_rows: 1000\n",
       "})"
      ]
     },
     "execution_count": 4,
     "metadata": {},
     "output_type": "execute_result"
    }
   ],
   "source": [
    "swbd"
   ]
  },
  {
   "cell_type": "code",
   "execution_count": 5,
   "id": "2d601e41-b486-4167-84d0-446bbc12086d",
   "metadata": {},
   "outputs": [],
   "source": [
    "swbd_resampled = swbd.cast_column(\n",
    "        \"audio\", datasets.features.Audio(sampling_rate=16_000)\n",
    "    )\n",
    "\n",
    "def prepare_dataset(batch):\n",
    "    sample = batch[\"audio\"]\n",
    "    batch[\"resampled_inputs\"] = sample[\"array\"]\n",
    "    batch[\"resampled_sampling_rate\"] = sample[\"sampling_rate\"]\n",
    "    return batch"
   ]
  },
  {
   "cell_type": "code",
   "execution_count": 6,
   "id": "7e70195d-9cb7-4615-b6a6-393f5f7d129b",
   "metadata": {},
   "outputs": [
    {
     "name": "stderr",
     "output_type": "stream",
     "text": [
      "preprocess train dataset:   0%|                                                                | 0/1000 [00:00<?, ?ex/s]/home/sanchitgandhi/datasets/src/datasets/features/audio.py:278: FutureWarning: Pass orig_sr=8000, target_sr=16000 as keyword args. From version 0.10 passing these as positional arguments will result in an error\n",
      "  array = librosa.resample(array, sampling_rate, self.sampling_rate, res_type=\"kaiser_best\")\n",
      "preprocess train dataset:   0%|                                                        | 1/1000 [00:01<22:47,  1.37s/ex]/home/sanchitgandhi/datasets/src/datasets/features/audio.py:278: FutureWarning: Pass orig_sr=8000, target_sr=16000 as keyword args. From version 0.10 passing these as positional arguments will result in an error\n",
      "  array = librosa.resample(array, sampling_rate, self.sampling_rate, res_type=\"kaiser_best\")\n",
      "preprocess train dataset: 100%|█████████████████████████████████████████████████████| 1000/1000 [01:17<00:00, 12.96ex/s]\n"
     ]
    },
    {
     "name": "stdout",
     "output_type": "stream",
     "text": [
      "CPU times: user 1min 17s, sys: 6.55 s, total: 1min 24s\n",
      "Wall time: 1min 18s\n"
     ]
    }
   ],
   "source": [
    "%%time\n",
    "\n",
    "swbd_resampled = swbd_resampled.map(\n",
    "        prepare_dataset,\n",
    "        remove_columns=swbd_resampled.column_names,\n",
    "        num_proc=1,\n",
    "        desc=\"preprocess train dataset\",\n",
    ")"
   ]
  },
  {
   "cell_type": "code",
   "execution_count": 7,
   "id": "d40438b6-b9f0-4f13-a167-bdfa9d8f88ab",
   "metadata": {},
   "outputs": [],
   "source": [
    "resampler = torchaudio.transforms.Resample(8_000, 16_000)\n",
    "\n",
    "def prepare_dataset(batch):\n",
    "    sample = batch[\"audio\"]\n",
    "    batch[\"resampled_inputs\"] = sample[\"array\"]\n",
    "    batch[\"resampled_sampling_rate\"] = sample[\"sampling_rate\"]\n",
    "    return batch"
   ]
  },
  {
   "cell_type": "code",
   "execution_count": 11,
   "id": "d0cf0541-7581-4e51-ac07-2b176ae6f7af",
   "metadata": {},
   "outputs": [
    {
     "name": "stderr",
     "output_type": "stream",
     "text": [
      "preprocess train dataset: 100%|████████████████████████████████████████████████████| 1000/1000 [00:01<00:00, 558.53ex/s]\n"
     ]
    },
    {
     "name": "stdout",
     "output_type": "stream",
     "text": [
      "CPU times: user 835 ms, sys: 1.1 s, total: 1.93 s\n",
      "Wall time: 2.39 s\n"
     ]
    }
   ],
   "source": [
    "%%time\n",
    "\n",
    "swbd_resampled_torchaudio = swbd.map(\n",
    "        prepare_dataset,\n",
    "        remove_columns=swbd.column_names,\n",
    "        num_proc=1,\n",
    "        desc=\"preprocess train dataset\",\n",
    ")"
   ]
  },
  {
   "cell_type": "markdown",
   "id": "8fda5711-99a5-423c-bfb6-e881a9001516",
   "metadata": {},
   "source": [
    "Librosa: 78s\n",
    "\n",
    "torchaudio: 2.39s (32x faster)"
   ]
  },
  {
   "cell_type": "code",
   "execution_count": null,
   "id": "b9dd2677-b226-4834-becf-ab1daf0bb676",
   "metadata": {},
   "outputs": [],
   "source": []
  }
 ],
 "metadata": {
  "kernelspec": {
   "display_name": "Python 3 (ipykernel)",
   "language": "python",
   "name": "python3"
  },
  "language_info": {
   "codemirror_mode": {
    "name": "ipython",
    "version": 3
   },
   "file_extension": ".py",
   "mimetype": "text/x-python",
   "name": "python",
   "nbconvert_exporter": "python",
   "pygments_lexer": "ipython3",
   "version": "3.8.10"
  }
 },
 "nbformat": 4,
 "nbformat_minor": 5
}
