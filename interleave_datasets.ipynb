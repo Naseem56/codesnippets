{
 "cells": [
  {
   "cell_type": "code",
   "execution_count": 1,
   "id": "64578325-54eb-4d11-bb7f-b5aa2390182c",
   "metadata": {},
   "outputs": [],
   "source": [
    "from datasets import Audio, load_dataset, interleave_datasets"
   ]
  },
  {
   "cell_type": "code",
   "execution_count": 2,
   "id": "faeb06e2-cde4-461d-8e44-45293f076896",
   "metadata": {},
   "outputs": [],
   "source": [
    "dataset_names = [\"mozilla-foundation/common_voice_11_0\", \"facebook/voxpopuli\"]\n",
    "configs = [\"es\", \"es\"]\n",
    "splits = [\"train\", \"train\"]\n",
    "text_column_names = [\"sentence\", \"text\"]\n",
    "audio_column_names = [\"audio\", \"audio\"]"
   ]
  },
  {
   "cell_type": "code",
   "execution_count": 3,
   "id": "f2aa7dc3-b79c-455a-9858-0025a6aeb36e",
   "metadata": {},
   "outputs": [],
   "source": [
    "def load_multiple_streaming_datasets(dataset_names, dataset_config_names, splits=None, text_column_names=None, audio_column_names=None, **kwargs):\n",
    "    if len(dataset_names) != len(dataset_config_names):\n",
    "        raise ValueError(f\"Ensure one config is passed for each dataset, got {len(dataset_names)} datasets and {len(dataset_config_names)} configs.\")\n",
    "\n",
    "    splits = splits if splits is not None else [\"train\" for i in range(len(dataset_names))]\n",
    "    text_column_names = text_column_names if text_column_names is not None else [\"text\" for i in range(len(dataset_names))]\n",
    "    audio_column_names = audio_column_names if audio_column_names is not None else [\"audio\" for i in range(len(dataset_names))]\n",
    "\n",
    "    dataset_splits = []\n",
    "    # iterate over the datasets we want to interleave\n",
    "    for i, dataset_name in enumerate(dataset_names):\n",
    "        dataset = load_dataset(dataset_name, dataset_config_names[i], split=splits[i], streaming=True, **kwargs)\n",
    "        # force audio column to sr=16000\n",
    "        dataset = dataset.cast_column(audio_column_names[i], Audio(16000))\n",
    "        # only keep the audio and text columns. Currently, remove_columns is BROKEN: https://github.com/huggingface/datasets/issues/5284, awaiting fix\n",
    "        dataset = dataset.remove_columns(set(dataset.features.keys()) - set([audio_column_names[i], text_column_names[i]]))\n",
    "        dataset_splits.append(dataset)\n",
    "\n",
    "    interleaved_dataset = interleave_datasets(dataset_splits)\n",
    "    return interleaved_dataset"
   ]
  },
  {
   "cell_type": "code",
   "execution_count": 4,
   "id": "f5c1835a-3b14-4767-8de7-4216569365c0",
   "metadata": {},
   "outputs": [
    {
     "ename": "ValueError",
     "evalue": "The features can't be aligned because the key audio of features {'audio': {'array': Sequence(feature=Value(dtype='float64', id=None), length=-1, id=None), 'path': Value(dtype='string', id=None), 'sampling_rate': Value(dtype='int64', id=None)}} has unexpected type - {'array': Sequence(feature=Value(dtype='float64', id=None), length=-1, id=None), 'path': Value(dtype='string', id=None), 'sampling_rate': Value(dtype='int64', id=None)} (expected either {'array': Sequence(feature=Value(dtype='float32', id=None), length=-1, id=None), 'path': Value(dtype='string', id=None), 'sampling_rate': Value(dtype='int64', id=None)} or Value(\"null\").",
     "output_type": "error",
     "traceback": [
      "\u001b[0;31m---------------------------------------------------------------------------\u001b[0m",
      "\u001b[0;31mValueError\u001b[0m                                Traceback (most recent call last)",
      "Input \u001b[0;32mIn [4]\u001b[0m, in \u001b[0;36m<cell line: 1>\u001b[0;34m()\u001b[0m\n\u001b[0;32m----> 1\u001b[0m dataset \u001b[38;5;241m=\u001b[39m \u001b[43mload_multiple_streaming_datasets\u001b[49m\u001b[43m(\u001b[49m\u001b[43mdataset_names\u001b[49m\u001b[43m,\u001b[49m\u001b[43m \u001b[49m\u001b[43mconfigs\u001b[49m\u001b[43m,\u001b[49m\u001b[43m \u001b[49m\u001b[43msplits\u001b[49m\u001b[38;5;241;43m=\u001b[39;49m\u001b[43msplits\u001b[49m\u001b[43m,\u001b[49m\u001b[43m \u001b[49m\u001b[43mtext_column_names\u001b[49m\u001b[38;5;241;43m=\u001b[39;49m\u001b[43mtext_column_names\u001b[49m\u001b[43m,\u001b[49m\u001b[43m \u001b[49m\u001b[43maudio_column_names\u001b[49m\u001b[38;5;241;43m=\u001b[39;49m\u001b[43maudio_column_names\u001b[49m\u001b[43m,\u001b[49m\u001b[43m \u001b[49m\u001b[43muse_auth_token\u001b[49m\u001b[38;5;241;43m=\u001b[39;49m\u001b[38;5;28;43;01mTrue\u001b[39;49;00m\u001b[43m)\u001b[49m\n",
      "Input \u001b[0;32mIn [3]\u001b[0m, in \u001b[0;36mload_multiple_streaming_datasets\u001b[0;34m(dataset_names, dataset_config_names, splits, text_column_names, audio_column_names, **kwargs)\u001b[0m\n\u001b[1;32m     16\u001b[0m     dataset \u001b[38;5;241m=\u001b[39m dataset\u001b[38;5;241m.\u001b[39mremove_columns(\u001b[38;5;28mset\u001b[39m(dataset\u001b[38;5;241m.\u001b[39mfeatures\u001b[38;5;241m.\u001b[39mkeys()) \u001b[38;5;241m-\u001b[39m \u001b[38;5;28mset\u001b[39m([audio_column_names[i], text_column_names[i]]))\n\u001b[1;32m     17\u001b[0m     dataset_splits\u001b[38;5;241m.\u001b[39mappend(dataset)\n\u001b[0;32m---> 19\u001b[0m interleaved_dataset \u001b[38;5;241m=\u001b[39m \u001b[43minterleave_datasets\u001b[49m\u001b[43m(\u001b[49m\u001b[43mdataset_splits\u001b[49m\u001b[43m)\u001b[49m\n\u001b[1;32m     20\u001b[0m \u001b[38;5;28;01mreturn\u001b[39;00m interleaved_dataset\n",
      "File \u001b[0;32m~/datasets/src/datasets/combine.py:128\u001b[0m, in \u001b[0;36minterleave_datasets\u001b[0;34m(datasets, probabilities, seed, info, split, stopping_strategy)\u001b[0m\n\u001b[1;32m    124\u001b[0m     \u001b[38;5;28;01mreturn\u001b[39;00m _interleave_map_style_datasets(\n\u001b[1;32m    125\u001b[0m         datasets, probabilities, seed, info\u001b[38;5;241m=\u001b[39minfo, split\u001b[38;5;241m=\u001b[39msplit, stopping_strategy\u001b[38;5;241m=\u001b[39mstopping_strategy\n\u001b[1;32m    126\u001b[0m     )\n\u001b[1;32m    127\u001b[0m \u001b[38;5;28;01melse\u001b[39;00m:\n\u001b[0;32m--> 128\u001b[0m     \u001b[38;5;28;01mreturn\u001b[39;00m \u001b[43m_interleave_iterable_datasets\u001b[49m\u001b[43m(\u001b[49m\n\u001b[1;32m    129\u001b[0m \u001b[43m        \u001b[49m\u001b[43mdatasets\u001b[49m\u001b[43m,\u001b[49m\u001b[43m \u001b[49m\u001b[43mprobabilities\u001b[49m\u001b[43m,\u001b[49m\u001b[43m \u001b[49m\u001b[43mseed\u001b[49m\u001b[43m,\u001b[49m\u001b[43m \u001b[49m\u001b[43minfo\u001b[49m\u001b[38;5;241;43m=\u001b[39;49m\u001b[43minfo\u001b[49m\u001b[43m,\u001b[49m\u001b[43m \u001b[49m\u001b[43msplit\u001b[49m\u001b[38;5;241;43m=\u001b[39;49m\u001b[43msplit\u001b[49m\u001b[43m,\u001b[49m\u001b[43m \u001b[49m\u001b[43mstopping_strategy\u001b[49m\u001b[38;5;241;43m=\u001b[39;49m\u001b[43mstopping_strategy\u001b[49m\n\u001b[1;32m    130\u001b[0m \u001b[43m    \u001b[49m\u001b[43m)\u001b[49m\n",
      "File \u001b[0;32m~/datasets/src/datasets/iterable_dataset.py:1497\u001b[0m, in \u001b[0;36m_interleave_iterable_datasets\u001b[0;34m(datasets, probabilities, seed, info, split, stopping_strategy)\u001b[0m\n\u001b[1;32m   1494\u001b[0m datasets \u001b[38;5;241m=\u001b[39m [d\u001b[38;5;241m.\u001b[39m_resolve_features() \u001b[38;5;28;01mfor\u001b[39;00m d \u001b[38;5;129;01min\u001b[39;00m datasets]\n\u001b[1;32m   1496\u001b[0m \u001b[38;5;66;03m# Perform checks\u001b[39;00m\n\u001b[0;32m-> 1497\u001b[0m \u001b[43m_check_if_features_can_be_aligned\u001b[49m\u001b[43m(\u001b[49m\u001b[43m[\u001b[49m\u001b[43mdset\u001b[49m\u001b[38;5;241;43m.\u001b[39;49m\u001b[43mfeatures\u001b[49m\u001b[43m \u001b[49m\u001b[38;5;28;43;01mfor\u001b[39;49;00m\u001b[43m \u001b[49m\u001b[43mdset\u001b[49m\u001b[43m \u001b[49m\u001b[38;5;129;43;01min\u001b[39;49;00m\u001b[43m \u001b[49m\u001b[43mdatasets\u001b[49m\u001b[43m]\u001b[49m\u001b[43m)\u001b[49m\n\u001b[1;32m   1499\u001b[0m \u001b[38;5;66;03m# TODO: improve this to account for a mix of ClassLabel and Value for example\u001b[39;00m\n\u001b[1;32m   1500\u001b[0m \u001b[38;5;66;03m# right now it would keep the type of the first dataset in the list\u001b[39;00m\n\u001b[1;32m   1501\u001b[0m features \u001b[38;5;241m=\u001b[39m Features(\n\u001b[1;32m   1502\u001b[0m     {k: v \u001b[38;5;28;01mfor\u001b[39;00m features \u001b[38;5;129;01min\u001b[39;00m _align_features([dset\u001b[38;5;241m.\u001b[39mfeatures \u001b[38;5;28;01mfor\u001b[39;00m dset \u001b[38;5;129;01min\u001b[39;00m datasets]) \u001b[38;5;28;01mfor\u001b[39;00m k, v \u001b[38;5;129;01min\u001b[39;00m features\u001b[38;5;241m.\u001b[39mitems()}\n\u001b[1;32m   1503\u001b[0m )\n",
      "File \u001b[0;32m~/datasets/src/datasets/features/features.py:1997\u001b[0m, in \u001b[0;36m_check_if_features_can_be_aligned\u001b[0;34m(features_list)\u001b[0m\n\u001b[1;32m   1995\u001b[0m \u001b[38;5;28;01mfor\u001b[39;00m k, v \u001b[38;5;129;01min\u001b[39;00m features\u001b[38;5;241m.\u001b[39mitems():\n\u001b[1;32m   1996\u001b[0m     \u001b[38;5;28;01mif\u001b[39;00m \u001b[38;5;129;01mnot\u001b[39;00m (\u001b[38;5;28misinstance\u001b[39m(v, Value) \u001b[38;5;129;01mand\u001b[39;00m v\u001b[38;5;241m.\u001b[39mdtype \u001b[38;5;241m==\u001b[39m \u001b[38;5;124m\"\u001b[39m\u001b[38;5;124mnull\u001b[39m\u001b[38;5;124m\"\u001b[39m) \u001b[38;5;129;01mand\u001b[39;00m name2feature[k] \u001b[38;5;241m!=\u001b[39m v:\n\u001b[0;32m-> 1997\u001b[0m         \u001b[38;5;28;01mraise\u001b[39;00m \u001b[38;5;167;01mValueError\u001b[39;00m(\n\u001b[1;32m   1998\u001b[0m             \u001b[38;5;124mf\u001b[39m\u001b[38;5;124m'\u001b[39m\u001b[38;5;124mThe features can\u001b[39m\u001b[38;5;130;01m\\'\u001b[39;00m\u001b[38;5;124mt be aligned because the key \u001b[39m\u001b[38;5;132;01m{\u001b[39;00mk\u001b[38;5;132;01m}\u001b[39;00m\u001b[38;5;124m of features \u001b[39m\u001b[38;5;132;01m{\u001b[39;00mfeatures\u001b[38;5;132;01m}\u001b[39;00m\u001b[38;5;124m has unexpected type - \u001b[39m\u001b[38;5;132;01m{\u001b[39;00mv\u001b[38;5;132;01m}\u001b[39;00m\u001b[38;5;124m (expected either \u001b[39m\u001b[38;5;132;01m{\u001b[39;00mname2feature[k]\u001b[38;5;132;01m}\u001b[39;00m\u001b[38;5;124m or Value(\u001b[39m\u001b[38;5;124m\"\u001b[39m\u001b[38;5;124mnull\u001b[39m\u001b[38;5;124m\"\u001b[39m\u001b[38;5;124m).\u001b[39m\u001b[38;5;124m'\u001b[39m\n\u001b[1;32m   1999\u001b[0m         )\n",
      "\u001b[0;31mValueError\u001b[0m: The features can't be aligned because the key audio of features {'audio': {'array': Sequence(feature=Value(dtype='float64', id=None), length=-1, id=None), 'path': Value(dtype='string', id=None), 'sampling_rate': Value(dtype='int64', id=None)}} has unexpected type - {'array': Sequence(feature=Value(dtype='float64', id=None), length=-1, id=None), 'path': Value(dtype='string', id=None), 'sampling_rate': Value(dtype='int64', id=None)} (expected either {'array': Sequence(feature=Value(dtype='float32', id=None), length=-1, id=None), 'path': Value(dtype='string', id=None), 'sampling_rate': Value(dtype='int64', id=None)} or Value(\"null\")."
     ]
    }
   ],
   "source": [
    "dataset = load_multiple_streaming_datasets(dataset_names, configs, splits=splits, text_column_names=text_column_names, audio_column_names=audio_column_names, use_auth_token=True)"
   ]
  },
  {
   "cell_type": "code",
   "execution_count": null,
   "id": "43f0dd70-e04e-496b-a0bb-78d659bfafb2",
   "metadata": {},
   "outputs": [],
   "source": []
  }
 ],
 "metadata": {
  "kernelspec": {
   "display_name": "Python 3 (ipykernel)",
   "language": "python",
   "name": "python3"
  },
  "language_info": {
   "codemirror_mode": {
    "name": "ipython",
    "version": 3
   },
   "file_extension": ".py",
   "mimetype": "text/x-python",
   "name": "python",
   "nbconvert_exporter": "python",
   "pygments_lexer": "ipython3",
   "version": "3.9.13"
  }
 },
 "nbformat": 4,
 "nbformat_minor": 5
}
