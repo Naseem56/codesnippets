{
 "cells": [
  {
   "cell_type": "code",
   "execution_count": 1,
   "id": "668058c7-0035-4ef8-b139-1a645babacb4",
   "metadata": {},
   "outputs": [
    {
     "name": "stderr",
     "output_type": "stream",
     "text": [
      "/Users/sanchitgandhi/venv/lib/python3.8/site-packages/jax/_src/lib/__init__.py:33: UserWarning: JAX on Mac ARM machines is experimental and minimally tested. Please see https://github.com/google/jax/issues/5501 in the event of problems.\n",
      "  warnings.warn(\"JAX on Mac ARM machines is experimental and minimally tested. \"\n"
     ]
    }
   ],
   "source": [
    "from transformers import pipeline\n",
    "from datasets import load_dataset"
   ]
  },
  {
   "cell_type": "code",
   "execution_count": 2,
   "id": "6e0d86c8-a6b9-4d33-95e9-7a5072b0ccde",
   "metadata": {},
   "outputs": [],
   "source": [
    "# load pipeline and dummy dataset\n",
    "pipe = pipeline(\n",
    "    \"automatic-speech-recognition\", model=\"openai/whisper-tiny\"\n",
    ")\n",
    "pipe.model.config.forced_decoder_ids = pipe.tokenizer.get_decoder_prompt_ids(language=\"es\", task=\"transcribe\")\n",
    "\n",
    "dataset = load_dataset(\"common_voice\", \"es\", split=\"train\", streaming=True)"
   ]
  },
  {
   "cell_type": "code",
   "execution_count": 3,
   "id": "ae95d413-3ccc-4747-bd7e-3734297bb197",
   "metadata": {},
   "outputs": [
    {
     "name": "stdout",
     "output_type": "stream",
     "text": [
      "{'client_id': Value(dtype='string', id=None), 'path': Value(dtype='string', id=None), 'audio': Audio(sampling_rate=48000, mono=True, decode=True, id=None), 'sentence': Value(dtype='string', id=None), 'up_votes': Value(dtype='int64', id=None), 'down_votes': Value(dtype='int64', id=None), 'age': Value(dtype='string', id=None), 'gender': Value(dtype='string', id=None), 'accent': Value(dtype='string', id=None), 'locale': Value(dtype='string', id=None), 'segment': Value(dtype='string', id=None)}\n"
     ]
    }
   ],
   "source": [
    "# inspect dataset -> we're interested in the 'audio' column for ASR inference\n",
    "print(dataset.features)"
   ]
  },
  {
   "cell_type": "code",
   "execution_count": 4,
   "id": "5345c506-afef-417a-a656-7a8e8a06c4b2",
   "metadata": {},
   "outputs": [
    {
     "name": "stdout",
     "output_type": "stream",
     "text": [
      "{'path': 'cv-corpus-6.1-2020-12-11/es/clips/common_voice_es_18306544.mp3', 'array': array([0.0000000e+00, 0.0000000e+00, 0.0000000e+00, ..., 8.9168549e-05,\n",
      "       2.5069714e-04, 2.3895502e-04], dtype=float32), 'sampling_rate': 48000}\n"
     ]
    }
   ],
   "source": [
    "# get the audio column of the first sample -> we only slice to [\"audio\"] and no further\n",
    "sample = next(iter(dataset))[\"audio\"]\n",
    "print(sample)"
   ]
  },
  {
   "cell_type": "markdown",
   "id": "e4c29a02-9faa-45a1-b510-c28fdf4e279a",
   "metadata": {},
   "source": [
    "Note how this audio sample has three entries:\n",
    "1. path: path to the audio file (this is deprecated and you won't find it on newer datasets). Absolute path for non-streaming mode (saved to disk) and relative path for streaming mode (since we load it to memory)\n",
    "2. array: 1-dimensional audio array\n",
    "3. sampling_rate: this is the key one! Note how we only have this when we slice to `[\"audio\"]`, but we'd lose it if we sliced to `[\"audio\"][\"array\"]`\n",
    "\n",
    "If we slice further and set:\n",
    "```python\n",
    "sample = next(iter(dataset))[\"audio\"][\"array\"]\n",
    "```\n",
    "We'd lose the sampling rate information. Here, the `pipeline` would only receive the raw 1-d audio array, and would **assume** that the sampling rate is equal to the sampling rate of the model. To prevent silent errors, we should always try and pass the dictionary `[\"audio\"]` to our model (rather than just `[\"audio\"][\"array\"]`"
   ]
  },
  {
   "cell_type": "code",
   "execution_count": 5,
   "id": "7768bf70-35c5-40fe-b11a-f9754c17d2dd",
   "metadata": {},
   "outputs": [
    {
     "name": "stdout",
     "output_type": "stream",
     "text": [
      "{'text': ' Pero acá su tiene dispuesta a su gente.', 'path': ['cv-corpus-6.1-2020-12-11/es/clips/common_voice_es_18306544.mp3']}\n"
     ]
    },
    {
     "name": "stderr",
     "output_type": "stream",
     "text": [
      "/Users/sanchitgandhi/transformers/src/transformers/generation/utils.py:1387: UserWarning: Neither `max_length` nor `max_new_tokens` has been set, `max_length` will default to 448 (`self.config.max_length`). Controlling `max_length` via the config is deprecated and `max_length` will be removed from the config in v5 of Transformers -- we recommend using `max_new_tokens` to control the maximum length of the generation.\n",
      "  warnings.warn(\n"
     ]
    }
   ],
   "source": [
    "out = pipe(sample)\n",
    "print(out)"
   ]
  },
  {
   "cell_type": "code",
   "execution_count": 6,
   "id": "ac041d46-ec33-4b2c-8907-20fd7863eecc",
   "metadata": {},
   "outputs": [
    {
     "name": "stdout",
     "output_type": "stream",
     "text": [
      "¿ pero acaso tiene dispuesta su gente ?\n"
     ]
    }
   ],
   "source": [
    "# verifying against the transcription\n",
    "print(next(iter(dataset))[\"sentence\"])"
   ]
  },
  {
   "cell_type": "code",
   "execution_count": 7,
   "id": "681b9cc6-7d15-4016-8228-e98027dda8a8",
   "metadata": {},
   "outputs": [
    {
     "name": "stdout",
     "output_type": "stream",
     "text": [
      "{'text': ' Pero acá su tiene dispuesta a su gente.', 'path': ['cv-corpus-6.1-2020-12-11/es/clips/common_voice_es_18306544.mp3']}\n"
     ]
    }
   ],
   "source": [
    "from datasets import Audio\n",
    "\n",
    "dataset = dataset.cast_column(\"audio\", Audio(16000))\n",
    "sample = next(iter(dataset))[\"audio\"]\n",
    "\n",
    "out = pipe(sample)\n",
    "print(out)"
   ]
  },
  {
   "cell_type": "markdown",
   "id": "bc2cd672-b431-4046-88f2-3bf5484ba07d",
   "metadata": {},
   "source": [
    "Same result => `pipeline` resamples for us provided we specify the sampling rate in the input dict"
   ]
  },
  {
   "cell_type": "code",
   "execution_count": null,
   "id": "f3aa7fe3-1b39-4404-91d5-c9bc68622785",
   "metadata": {},
   "outputs": [],
   "source": []
  }
 ],
 "metadata": {
  "kernelspec": {
   "display_name": "Python 3 (ipykernel)",
   "language": "python",
   "name": "python3"
  },
  "language_info": {
   "codemirror_mode": {
    "name": "ipython",
    "version": 3
   },
   "file_extension": ".py",
   "mimetype": "text/x-python",
   "name": "python",
   "nbconvert_exporter": "python",
   "pygments_lexer": "ipython3",
   "version": "3.8.9"
  }
 },
 "nbformat": 4,
 "nbformat_minor": 5
}
