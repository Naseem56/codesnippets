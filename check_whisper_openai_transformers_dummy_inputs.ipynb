{
 "cells": [
  {
   "cell_type": "code",
   "execution_count": 1,
   "id": "43c1a557-c5f1-4954-a916-8c6960e63c62",
   "metadata": {},
   "outputs": [],
   "source": [
    "# Uncomment to install the 'official' whisper package made compatible with Transformers from https://github.com/patrickvonplaten/whisper\n",
    "#!pip install git+https://github.com/patrickvonplaten/whisper.git "
   ]
  },
  {
   "cell_type": "code",
   "execution_count": 2,
   "id": "a0aab94f-2425-47f8-a1b0-1b987d8088ff",
   "metadata": {},
   "outputs": [],
   "source": [
    "import whisper\n",
    "from transformers import WhisperFeatureExtractor, WhisperForConditionalGeneration, WhisperTokenizer, WhisperProcessor\n",
    "import numpy as np\n",
    "import torch"
   ]
  },
  {
   "cell_type": "markdown",
   "id": "e2809051-9ea2-4bab-b90e-af366966b59f",
   "metadata": {},
   "source": [
    "### Load OpenAI Model"
   ]
  },
  {
   "cell_type": "code",
   "execution_count": 3,
   "id": "8c2d1728-c90b-405e-8cda-578cb7d3d9b7",
   "metadata": {},
   "outputs": [],
   "source": [
    "openai_whisper = whisper.load_model(\"tiny.en\")\n",
    "\n",
    "openai_tok = whisper.tokenizer.get_tokenizer(False, task=\"transcribe\", language=\"en\")\n",
    "openai_tokenizer = openai_tok.tokenizer\n",
    "openai_tokenizer.pad_token = openai_tokenizer.eos_token"
   ]
  },
  {
   "cell_type": "markdown",
   "id": "e8d7b548-edd8-406f-b646-a465f1e52e96",
   "metadata": {},
   "source": [
    "### Load Transformers Model"
   ]
  },
  {
   "cell_type": "code",
   "execution_count": 4,
   "id": "051b88b1-f9b5-408d-84be-dce035354600",
   "metadata": {},
   "outputs": [],
   "source": [
    "transformers_whisper = WhisperForConditionalGeneration.from_pretrained(\"openai/whisper-tiny.en\")\n",
    "\n",
    "feature_extractor = WhisperFeatureExtractor()\n",
    "feature_extractor.return_attention_mask = False\n",
    "\n",
    "tokenizer = WhisperTokenizer.from_pretrained(\"openai/whisper-tiny.en\")\n",
    "\n",
    "processor = WhisperProcessor.from_pretrained(\"openai/whisper-tiny.en\")\n",
    "\n",
    "eos_token_id = transformers_whisper.config.eos_token_id\n",
    "decoder_start_token_id = transformers_whisper.config.decoder_start_token_id\n",
    "model_input_name = feature_extractor.model_input_names[0]"
   ]
  },
  {
   "cell_type": "markdown",
   "id": "c522a4ce-9d9b-418e-a94c-d472e39b8cf1",
   "metadata": {},
   "source": [
    "### Create Dummy Dataset"
   ]
  },
  {
   "cell_type": "code",
   "execution_count": 36,
   "id": "05f26e5b-c725-4f12-bd6c-b503b52742c7",
   "metadata": {},
   "outputs": [],
   "source": [
    "inputs = torch.randn((16000), dtype=torch.float32)\n",
    "input_features = feature_extractor(inputs, sampling_rate=16000, return_tensors=\"pt\").input_features[0]\n",
    "# OpenAI model expects a batch of inputs, append an empty axis at index 0\n",
    "input_features = torch.unsqueeze(input_features, 0)\n",
    "\n",
    "labels = torch.arange(0, 10)\n",
    "# OpenAI model expects a batch of inputs, append an empty axis at index 0\n",
    "labels = torch.unsqueeze(labels, 0)\n",
    "# Add eos token id\n",
    "labels[:, -1] = eos_token_id"
   ]
  },
  {
   "cell_type": "code",
   "execution_count": 37,
   "id": "2bbeacb6-6ff4-40af-9cf9-f67995bffa72",
   "metadata": {},
   "outputs": [
    {
     "data": {
      "text/plain": [
       "(tensor([[[ 1.0272,  1.1941,  1.0656,  ..., -0.5983, -0.5983, -0.5983],\n",
       "          [ 0.8491,  1.1673,  1.0732,  ..., -0.5983, -0.5983, -0.5983],\n",
       "          [ 1.0047,  0.9998,  1.1308,  ..., -0.5983, -0.5983, -0.5983],\n",
       "          ...,\n",
       "          [ 1.1388,  1.1429,  1.1118,  ..., -0.5983, -0.5983, -0.5983],\n",
       "          [ 1.1607,  1.1749,  1.1198,  ..., -0.5983, -0.5983, -0.5983],\n",
       "          [ 1.2014,  1.2465,  1.1562,  ..., -0.5983, -0.5983, -0.5983]]]),\n",
       " tensor([[    0,     1,     2,     3,     4,     5,     6,     7,     8, 50256]]))"
      ]
     },
     "execution_count": 37,
     "metadata": {},
     "output_type": "execute_result"
    }
   ],
   "source": [
    "input_features, labels"
   ]
  },
  {
   "cell_type": "markdown",
   "id": "0210f9bf-827d-4e7b-8250-1f799356ad8c",
   "metadata": {},
   "source": [
    "### Check Equality of Model Outputs"
   ]
  },
  {
   "cell_type": "code",
   "execution_count": 38,
   "id": "f6822a69-8e96-457a-b14d-9c19add940ef",
   "metadata": {},
   "outputs": [],
   "source": [
    "openai_outputs = openai_whisper(input_features, labels=labels)\n",
    "transformers_outputs = transformers_whisper(input_features, labels=labels)"
   ]
  },
  {
   "cell_type": "code",
   "execution_count": 39,
   "id": "ad51637e-f2db-4a2d-af60-696d0306a3bd",
   "metadata": {},
   "outputs": [
    {
     "data": {
      "text/plain": [
       "(tensor(6.5207, grad_fn=<NllLossBackward0>),\n",
       " tensor(6.5207, grad_fn=<NllLossBackward0>))"
      ]
     },
     "execution_count": 39,
     "metadata": {},
     "output_type": "execute_result"
    }
   ],
   "source": [
    "openai_outputs.loss, transformers_outputs.loss"
   ]
  },
  {
   "cell_type": "code",
   "execution_count": 40,
   "id": "271ade5e-c48e-4afc-bb0c-bdb405e80fe7",
   "metadata": {},
   "outputs": [
    {
     "data": {
      "text/plain": [
       "tensor(4.3869e-05, grad_fn=<MaxBackward1>)"
      ]
     },
     "execution_count": 40,
     "metadata": {},
     "output_type": "execute_result"
    }
   ],
   "source": [
    "torch.max(torch.abs(openai_outputs[\"logits\"] - transformers_outputs[\"logits\"]))"
   ]
  },
  {
   "cell_type": "markdown",
   "id": "186570dc-41cc-47bd-993f-8e73e238f14d",
   "metadata": {},
   "source": [
    "### Check Equality of Generation Predictions"
   ]
  },
  {
   "cell_type": "code",
   "execution_count": 41,
   "id": "84b2bbc1-a4c0-4de5-b1f4-840020a237b4",
   "metadata": {},
   "outputs": [],
   "source": [
    "openai_pred_ids = openai_whisper.generate(input_features, max_length=40)\n",
    "transformers_pred_ids = transformers_whisper.generate(input_features, max_length=40)"
   ]
  },
  {
   "cell_type": "code",
   "execution_count": 42,
   "id": "8571e093-d36b-4d21-bdda-79e648a9102b",
   "metadata": {},
   "outputs": [],
   "source": [
    "openai_pred_str = openai_tokenizer.batch_decode(openai_pred_ids, skip_special_tokens=True)\n",
    "transformers_pred_str = tokenizer.batch_decode(transformers_pred_ids, skip_special_tokens=True)"
   ]
  },
  {
   "cell_type": "code",
   "execution_count": 43,
   "id": "0efb3faa-280a-4649-b852-166a8759827c",
   "metadata": {},
   "outputs": [
    {
     "data": {
      "text/plain": [
       "(torch.Size([1, 3]), torch.Size([1, 4]))"
      ]
     },
     "execution_count": 43,
     "metadata": {},
     "output_type": "execute_result"
    }
   ],
   "source": [
    "openai_pred_ids.shape, transformers_pred_ids.shape"
   ]
  },
  {
   "cell_type": "code",
   "execution_count": 44,
   "id": "af5d5e2a-8069-4bde-9eda-14dfba84d4ab",
   "metadata": {},
   "outputs": [
    {
     "data": {
      "text/plain": [
       "([''], [' You'])"
      ]
     },
     "execution_count": 44,
     "metadata": {},
     "output_type": "execute_result"
    }
   ],
   "source": [
    "openai_pred_str, transformers_pred_str"
   ]
  },
  {
   "cell_type": "code",
   "execution_count": null,
   "id": "67b13768-f2e1-4eeb-b5b0-f3ecca2ce7ff",
   "metadata": {},
   "outputs": [],
   "source": []
  }
 ],
 "metadata": {
  "kernelspec": {
   "display_name": "Python 3 (ipykernel)",
   "language": "python",
   "name": "python3"
  },
  "language_info": {
   "codemirror_mode": {
    "name": "ipython",
    "version": 3
   },
   "file_extension": ".py",
   "mimetype": "text/x-python",
   "name": "python",
   "nbconvert_exporter": "python",
   "pygments_lexer": "ipython3",
   "version": "3.8.9"
  }
 },
 "nbformat": 4,
 "nbformat_minor": 5
}
