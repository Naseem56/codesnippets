{
 "cells": [
  {
   "cell_type": "code",
   "execution_count": 1,
   "id": "5a583f94-53fd-447a-8ef3-95dbbcc22439",
   "metadata": {},
   "outputs": [
    {
     "name": "stderr",
     "output_type": "stream",
     "text": [
      "/Users/sanchitgandhi/venv/lib/python3.8/site-packages/jax/_src/lib/__init__.py:33: UserWarning: JAX on Mac ARM machines is experimental and minimally tested. Please see https://github.com/google/jax/issues/5501 in the event of problems.\n",
      "  warnings.warn(\"JAX on Mac ARM machines is experimental and minimally tested. \"\n"
     ]
    }
   ],
   "source": [
    "from transformers import T5Tokenizer, FlaxMT5ForConditionalGeneration\n",
    "import jax\n",
    "import jax.numpy as jnp"
   ]
  },
  {
   "cell_type": "code",
   "execution_count": 7,
   "id": "2eee9602-e339-40a4-95a4-bc1f7df946a5",
   "metadata": {},
   "outputs": [
    {
     "name": "stderr",
     "output_type": "stream",
     "text": [
      "Some weights of FlaxMT5ForConditionalGeneration were not initialized from the model checkpoint at lewtun/tiny-random-mt5 and are newly initialized: {('lm_head', 'kernel')}\n",
      "You should probably TRAIN this model on a down-stream task to be able to use it for predictions and inference.\n"
     ]
    }
   ],
   "source": [
    "# load the Flax model -> set the dtype of the computations to bfloat16\n",
    "model = FlaxMT5ForConditionalGeneration.from_pretrained(\"lewtun/tiny-random-mt5\", from_pt=True, dtype=jnp.bfloat16)\n",
    "# convert the model parameters to bfloat16\n",
    "model.params = model.to_bf16(model.params)"
   ]
  },
  {
   "cell_type": "code",
   "execution_count": 2,
   "id": "c55060e5-0148-4275-b829-eab4568904c1",
   "metadata": {},
   "outputs": [],
   "source": [
    "tokenizer = T5Tokenizer.from_pretrained(\"lewtun/tiny-random-mt5\")\n",
    "\n",
    "input_context = \"The dog\"\n",
    "input_ids = tokenizer(input_context, return_tensors=\"np\").input_ids"
   ]
  },
  {
   "cell_type": "code",
   "execution_count": null,
   "id": "1cb78813-8996-41aa-9559-b3cd599fab4f",
   "metadata": {},
   "outputs": [],
   "source": [
    "# vanilla generate -> JIT generate \n",
    "jit_generate = jax.jit(model.generate, static_argnames=[\"max_length\", \"top_k\", \"do_sample\"])"
   ]
  },
  {
   "cell_type": "code",
   "execution_count": 8,
   "id": "668fb070-5e4e-4dba-a1a1-063d5075383f",
   "metadata": {},
   "outputs": [],
   "source": [
    "outputs = jit_generate(input_ids=input_ids, max_length=20, top_k=30, do_sample=True).sequences"
   ]
  }
 ],
 "metadata": {
  "kernelspec": {
   "display_name": "Python 3 (ipykernel)",
   "language": "python",
   "name": "python3"
  },
  "language_info": {
   "codemirror_mode": {
    "name": "ipython",
    "version": 3
   },
   "file_extension": ".py",
   "mimetype": "text/x-python",
   "name": "python",
   "nbconvert_exporter": "python",
   "pygments_lexer": "ipython3",
   "version": "3.8.9"
  }
 },
 "nbformat": 4,
 "nbformat_minor": 5
}
