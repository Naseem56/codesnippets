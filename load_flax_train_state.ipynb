{
 "cells": [
  {
   "cell_type": "code",
   "execution_count": 1,
   "id": "3d453530-e4e2-4063-b444-82c71028750d",
   "metadata": {},
   "outputs": [
    {
     "name": "stderr",
     "output_type": "stream",
     "text": [
      "2023-01-05 09:40:46.358568: W tensorflow/compiler/xla/stream_executor/platform/default/dso_loader.cc:64] Could not load dynamic library 'libnvinfer.so.7'; dlerror: libnvinfer.so.7: cannot open shared object file: No such file or directory; LD_LIBRARY_PATH: /usr/local/cuda/lib64:/usr/local/nccl2/lib:/usr/local/cuda/extras/CUPTI/lib64\n",
      "2023-01-05 09:40:46.358716: W tensorflow/compiler/xla/stream_executor/platform/default/dso_loader.cc:64] Could not load dynamic library 'libnvinfer_plugin.so.7'; dlerror: libnvinfer_plugin.so.7: cannot open shared object file: No such file or directory; LD_LIBRARY_PATH: /usr/local/cuda/lib64:/usr/local/nccl2/lib:/usr/local/cuda/extras/CUPTI/lib64\n",
      "2023-01-05 09:40:46.358732: W tensorflow/compiler/tf2tensorrt/utils/py_utils.cc:38] TF-TRT Warning: Cannot dlopen some TensorRT libraries. If you would like to use Nvidia GPU with TensorRT, please make sure the missing libraries mentioned above are installed properly.\n",
      "/opt/conda/envs/hf/lib/python3.9/site-packages/tqdm/auto.py:22: TqdmWarning: IProgress not found. Please update jupyter and ipywidgets. See https://ipywidgets.readthedocs.io/en/stable/user_install.html\n",
      "  from .autonotebook import tqdm as notebook_tqdm\n"
     ]
    }
   ],
   "source": [
    "import optax\n",
    "from flax.training import train_state, checkpoints\n",
    "from flax import traverse_util\n",
    "from transformers import FlaxBertForMaskedLM\n",
    "from typing import Callable\n",
    "import jax.numpy as jnp"
   ]
  },
  {
   "cell_type": "code",
   "execution_count": 2,
   "id": "a8e82b86-3992-4abf-b826-9a4f959985d7",
   "metadata": {},
   "outputs": [],
   "source": [
    "def create_learning_rate_fn(\n",
    "        num_total_train_steps: int, num_warmup_steps: int, learning_rate: float, schedule_type: str = 'linear',\n",
    ") -> Callable[[int], jnp.array]:\n",
    "    \"\"\"Returns a linear warmup, linear_decay learning rate function.\"\"\"\n",
    "    warmup_fn = optax.linear_schedule(init_value=0.0, end_value=learning_rate, transition_steps=num_warmup_steps)\n",
    "    if schedule_type == 'constant':\n",
    "        decay_fn = optax.constant_schedule(value=learning_rate)\n",
    "    elif schedule_type == 'linear':\n",
    "        decay_fn = optax.linear_schedule(\n",
    "            init_value=learning_rate, end_value=0, transition_steps=num_total_train_steps - num_warmup_steps\n",
    "        )\n",
    "    elif schedule_type == 'polynomial':\n",
    "        decay_fn = optax.polynomial_schedule(\n",
    "            init_value=learning_rate, end_value=0, power=2, transition_steps=num_total_train_steps - num_warmup_steps\n",
    "        )\n",
    "    elif schedule_type == 'cosine':\n",
    "        decay_fn = optax.cosine_decay_schedule(\n",
    "            init_value=learning_rate, decay_steps=num_total_train_steps - num_warmup_steps, alpha=0.1\n",
    "        )\n",
    "    schedule_fn = optax.join_schedules(schedules=[warmup_fn, decay_fn], boundaries=[num_warmup_steps])\n",
    "    return schedule_fn"
   ]
  },
  {
   "cell_type": "code",
   "execution_count": 3,
   "id": "215bdce7-27d6-4e27-ad13-4f1866a1eb4f",
   "metadata": {},
   "outputs": [
    {
     "name": "stderr",
     "output_type": "stream",
     "text": [
      "Some weights of the model checkpoint at hf-internal-testing/tiny-random-bert were not used when initializing FlaxBertForMaskedLM: {('cls', 'seq_relationship', 'bias'), ('cls', 'predictions', 'decoder', 'kernel'), ('qa_outputs', 'kernel'), ('cls', 'seq_relationship', 'kernel'), ('classifier', 'bias'), ('bert', 'pooler', 'dense', 'bias'), ('cls', 'predictions', 'decoder', 'bias'), ('classifier', 'kernel'), ('qa_outputs', 'bias'), ('bert', 'pooler', 'dense', 'kernel'), ('bert', 'embeddings', 'position_ids')}\n",
      "- This IS expected if you are initializing FlaxBertForMaskedLM from the checkpoint of a model trained on another task or with another architecture (e.g. initializing a BertForSequenceClassification model from a BertForPreTraining model).\n",
      "- This IS NOT expected if you are initializing FlaxBertForMaskedLM from the checkpoint of a model that you expect to be exactly identical (initializing a BertForSequenceClassification model from a BertForSequenceClassification model).\n"
     ]
    }
   ],
   "source": [
    "# Load a dummy model (weights are ~0.5MB)\n",
    "model = FlaxBertForMaskedLM.from_pretrained(\"hf-internal-testing/tiny-random-bert\", from_pt=True)\n",
    "\n",
    "# Create a dummy learning rate schedule\n",
    "linear_decay_lr_schedule_fn = create_learning_rate_fn(\n",
    "    num_total_train_steps=10, \n",
    "    num_warmup_steps=5,\n",
    "    learning_rate=2e-10, \n",
    "    schedule_type=\"linear\",\n",
    ")\n",
    "\n",
    "# Create an optimiser\n",
    "optimizer = optax.adamw(learning_rate=linear_decay_lr_schedule_fn)\n",
    "\n",
    "# Create a train state\n",
    "state = train_state.TrainState.create(apply_fn=model.__call__, params=model.params, tx=optimizer)\n",
    "\n",
    "# Save train state\n",
    "CKPT_DIR = \"ckpts\"\n",
    "checkpoints.save_checkpoint(ckpt_dir=CKPT_DIR, target=state, step=0, keep=0, overwrite=True);"
   ]
  },
  {
   "cell_type": "code",
   "execution_count": 4,
   "id": "763e37c4-b7c4-4c35-96f2-d47a62b8d4a5",
   "metadata": {},
   "outputs": [],
   "source": [
    "# Reload train state\n",
    "loaded_state = checkpoints.restore_checkpoint(ckpt_dir=CKPT_DIR, target=state)"
   ]
  },
  {
   "cell_type": "code",
   "execution_count": 5,
   "id": "333e4e2d-0b4c-4fd2-8e15-a796b27bf683",
   "metadata": {},
   "outputs": [],
   "source": [
    "# Create a new learning rate schedule\n",
    "new_linear_decay_lr_schedule_fn = create_learning_rate_fn(\n",
    "    num_total_train_steps=5, \n",
    "    num_warmup_steps=1,\n",
    "    learning_rate=2e-5, \n",
    "    schedule_type=\"linear\",\n",
    ")"
   ]
  },
  {
   "cell_type": "code",
   "execution_count": 6,
   "id": "7f199c95-c631-423a-8b91-79ac15bea0ec",
   "metadata": {},
   "outputs": [],
   "source": [
    "# Impose new LR schedule on loaded train state?.."
   ]
  },
  {
   "cell_type": "code",
   "execution_count": null,
   "id": "e3aa9331-6074-44d5-8e7f-305917f6b1fc",
   "metadata": {},
   "outputs": [],
   "source": []
  }
 ],
 "metadata": {
  "kernelspec": {
   "display_name": "Python 3 (ipykernel)",
   "language": "python",
   "name": "python3"
  },
  "language_info": {
   "codemirror_mode": {
    "name": "ipython",
    "version": 3
   },
   "file_extension": ".py",
   "mimetype": "text/x-python",
   "name": "python",
   "nbconvert_exporter": "python",
   "pygments_lexer": "ipython3",
   "version": "3.9.15"
  }
 },
 "nbformat": 4,
 "nbformat_minor": 5
}
