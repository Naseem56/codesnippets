{
 "cells": [
  {
   "cell_type": "code",
   "execution_count": 1,
   "id": "b810c805-6d56-4356-9e08-e118f1082ce1",
   "metadata": {},
   "outputs": [],
   "source": [
    "import jax\n",
    "import jax.numpy as jnp"
   ]
  },
  {
   "cell_type": "code",
   "execution_count": 2,
   "id": "966cb18e-c614-429f-8d5a-9b2d79b818fc",
   "metadata": {},
   "outputs": [],
   "source": [
    "# candidate_ids is an jax 2d array with dimension (1, max_length)\n",
    "max_length = 64\n",
    "candidate_ids = jnp.arange(max_length)[None, :]"
   ]
  },
  {
   "cell_type": "code",
   "execution_count": 3,
   "id": "6d89d97b-d42f-41a5-9368-1596cedc1b6c",
   "metadata": {},
   "outputs": [
    {
     "data": {
      "text/plain": [
       "Array([[ 0,  1,  2,  3,  4,  5,  6,  7,  8,  9, 10, 11, 12, 13, 14, 15,\n",
       "        16, 17, 18, 19, 20, 21, 22, 23, 24, 25, 26, 27, 28, 29, 30, 31,\n",
       "        32, 33, 34, 35, 36, 37, 38, 39, 40, 41, 42, 43, 44, 45, 46, 47,\n",
       "        48, 49, 50, 51, 52, 53, 54, 55, 56, 57, 58, 59, 60, 61, 62, 63]],      dtype=int32)"
      ]
     },
     "execution_count": 3,
     "metadata": {},
     "output_type": "execute_result"
    }
   ],
   "source": [
    "candidate_ids"
   ]
  },
  {
   "cell_type": "code",
   "execution_count": 4,
   "id": "f8f77435-266a-4075-bf55-97fcb238c269",
   "metadata": {},
   "outputs": [
    {
     "data": {
      "text/plain": [
       "Array([[1, 2, 3]], dtype=int32)"
      ]
     },
     "execution_count": 4,
     "metadata": {},
     "output_type": "execute_result"
    }
   ],
   "source": [
    "# padding_pos is an jax 2d array with dimension (1, 3)\n",
    "padding_pos = jnp.arange(start=1, stop=4)[None, :]\n",
    "padding_pos"
   ]
  },
  {
   "cell_type": "code",
   "execution_count": 5,
   "id": "8e5c65d1-10c7-4490-81ff-df33da0f2b9d",
   "metadata": {},
   "outputs": [
    {
     "data": {
      "text/plain": [
       "Array([[0]], dtype=int32)"
      ]
     },
     "execution_count": 5,
     "metadata": {},
     "output_type": "execute_result"
    }
   ],
   "source": [
    "# try slicing without jit\n",
    "new_candidate_ids = jax.lax.dynamic_slice(candidate_ids, (0, 0), (1, padding_pos[0, 0]))\n",
    "new_candidate_ids"
   ]
  },
  {
   "cell_type": "code",
   "execution_count": 6,
   "id": "068327b6-564f-42df-b650-1079437dcd52",
   "metadata": {},
   "outputs": [],
   "source": [
    "# jit the function and try again\n",
    "def slice_ids(input_ids, idx=1):\n",
    "    return jax.lax.dynamic_slice(input_ids, (0, 0), (1, idx))\n",
    "\n",
    "jit_slice_ids = jax.jit(slice_ids)"
   ]
  },
  {
   "cell_type": "code",
   "execution_count": 7,
   "id": "8140c9ca-4211-4bb6-9790-12dff79d90ec",
   "metadata": {},
   "outputs": [
    {
     "ename": "TypeError",
     "evalue": "Shapes must be 1D sequences of concrete values of integer type, got (1, Traced<ShapedArray(int32[], weak_type=True)>with<DynamicJaxprTrace(level=0/1)>).\nIf using `jit`, try using `static_argnums` or applying `jit` to smaller subfunctions.",
     "output_type": "error",
     "traceback": [
      "\u001b[0;31m---------------------------------------------------------------------------\u001b[0m",
      "\u001b[0;31mTypeError\u001b[0m                                 Traceback (most recent call last)",
      "Cell \u001b[0;32mIn[7], line 1\u001b[0m\n\u001b[0;32m----> 1\u001b[0m new_candidate_ids \u001b[38;5;241m=\u001b[39m \u001b[43mjit_slice_ids\u001b[49m\u001b[43m(\u001b[49m\u001b[43mcandidate_ids\u001b[49m\u001b[43m,\u001b[49m\u001b[43m \u001b[49m\u001b[43midx\u001b[49m\u001b[38;5;241;43m=\u001b[39;49m\u001b[38;5;28;43mint\u001b[39;49m\u001b[43m(\u001b[49m\u001b[43mpadding_pos\u001b[49m\u001b[43m[\u001b[49m\u001b[38;5;241;43m0\u001b[39;49m\u001b[43m,\u001b[49m\u001b[43m \u001b[49m\u001b[38;5;241;43m0\u001b[39;49m\u001b[43m]\u001b[49m\u001b[43m)\u001b[49m\u001b[43m)\u001b[49m\n\u001b[1;32m      2\u001b[0m new_candidate_ids\n",
      "    \u001b[0;31m[... skipping hidden 12 frame]\u001b[0m\n",
      "Cell \u001b[0;32mIn[6], line 3\u001b[0m, in \u001b[0;36mslice_ids\u001b[0;34m(input_ids, idx)\u001b[0m\n\u001b[1;32m      2\u001b[0m \u001b[38;5;28;01mdef\u001b[39;00m \u001b[38;5;21mslice_ids\u001b[39m(input_ids, idx\u001b[38;5;241m=\u001b[39m\u001b[38;5;241m1\u001b[39m):\n\u001b[0;32m----> 3\u001b[0m     \u001b[38;5;28;01mreturn\u001b[39;00m \u001b[43mjax\u001b[49m\u001b[38;5;241;43m.\u001b[39;49m\u001b[43mlax\u001b[49m\u001b[38;5;241;43m.\u001b[39;49m\u001b[43mdynamic_slice\u001b[49m\u001b[43m(\u001b[49m\u001b[43minput_ids\u001b[49m\u001b[43m,\u001b[49m\u001b[43m \u001b[49m\u001b[43m(\u001b[49m\u001b[38;5;241;43m0\u001b[39;49m\u001b[43m,\u001b[49m\u001b[43m \u001b[49m\u001b[38;5;241;43m0\u001b[39;49m\u001b[43m)\u001b[49m\u001b[43m,\u001b[49m\u001b[43m \u001b[49m\u001b[43m(\u001b[49m\u001b[38;5;241;43m1\u001b[39;49m\u001b[43m,\u001b[49m\u001b[43m \u001b[49m\u001b[43midx\u001b[49m\u001b[43m)\u001b[49m\u001b[43m)\u001b[49m\n",
      "    \u001b[0;31m[... skipping hidden 1 frame]\u001b[0m\n",
      "File \u001b[0;32m/opt/conda/envs/hf/lib/python3.9/site-packages/jax/core.py:1904\u001b[0m, in \u001b[0;36mcanonicalize_shape\u001b[0;34m(shape, context)\u001b[0m\n\u001b[1;32m   1902\u001b[0m \u001b[38;5;28;01mexcept\u001b[39;00m \u001b[38;5;167;01mTypeError\u001b[39;00m:\n\u001b[1;32m   1903\u001b[0m   \u001b[38;5;28;01mpass\u001b[39;00m\n\u001b[0;32m-> 1904\u001b[0m \u001b[38;5;28;01mraise\u001b[39;00m _invalid_shape_error(shape, context)\n",
      "\u001b[0;31mTypeError\u001b[0m: Shapes must be 1D sequences of concrete values of integer type, got (1, Traced<ShapedArray(int32[], weak_type=True)>with<DynamicJaxprTrace(level=0/1)>).\nIf using `jit`, try using `static_argnums` or applying `jit` to smaller subfunctions."
     ]
    }
   ],
   "source": [
    "new_candidate_ids = jit_slice_ids(candidate_ids, idx=int(padding_pos[0, 0]))\n",
    "new_candidate_ids"
   ]
  },
  {
   "cell_type": "code",
   "execution_count": 9,
   "id": "762663fd-794e-476f-aa80-6654dceb7219",
   "metadata": {},
   "outputs": [
    {
     "data": {
      "text/plain": [
       "Array([[0]], dtype=int32)"
      ]
     },
     "execution_count": 9,
     "metadata": {},
     "output_type": "execute_result"
    }
   ],
   "source": [
    "# need to pass the idx arg as a `static_argnum`\n",
    "# see: https://jax.readthedocs.io/en/latest/notebooks/Common_Gotchas_in_JAX.html#python-control-flow-jit\n",
    "jit_slice_ids = jax.jit(slice_ids, static_argnums=1)\n",
    "\n",
    "new_candidate_ids = jit_slice_ids(candidate_ids, idx=int(padding_pos[0, 0]))\n",
    "new_candidate_ids"
   ]
  },
  {
   "cell_type": "code",
   "execution_count": null,
   "id": "f06a2e53-8ae1-4b87-a4c5-e0c0b520d61f",
   "metadata": {},
   "outputs": [],
   "source": []
  }
 ],
 "metadata": {
  "kernelspec": {
   "display_name": "Python 3 (ipykernel)",
   "language": "python",
   "name": "python3"
  },
  "language_info": {
   "codemirror_mode": {
    "name": "ipython",
    "version": 3
   },
   "file_extension": ".py",
   "mimetype": "text/x-python",
   "name": "python",
   "nbconvert_exporter": "python",
   "pygments_lexer": "ipython3",
   "version": "3.9.15"
  }
 },
 "nbformat": 4,
 "nbformat_minor": 5
}
