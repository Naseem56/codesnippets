{
 "cells": [
  {
   "cell_type": "code",
   "execution_count": 69,
   "id": "adf9fbc4-ec84-4f03-87f2-d7347a4157e3",
   "metadata": {},
   "outputs": [],
   "source": [
    "import whisper  # openai whisper\n",
    "from transformers import WhisperTokenizer"
   ]
  },
  {
   "cell_type": "code",
   "execution_count": 76,
   "id": "bc2d0bcd-7356-415f-929b-6e51bbbbf976",
   "metadata": {},
   "outputs": [],
   "source": [
    "def get_sot_ids(tokenizer):\n",
    "    all_special_ids = tokenizer.all_special_ids\n",
    "    sot = all_special_ids[1]\n",
    "    translate = all_special_ids[-6]\n",
    "    transcribe = all_special_ids[-5]\n",
    "    print(f\"sot: {sot}, translate: {translate}, transcribe: {transcribe}, length special ids: {len(all_special_ids)}\")"
   ]
  },
  {
   "cell_type": "markdown",
   "id": "32c1fd49-942d-4a1a-b0d6-7037f1b9f344",
   "metadata": {},
   "source": [
    "### English"
   ]
  },
  {
   "cell_type": "code",
   "execution_count": 77,
   "id": "8e853c15-fa68-4ff5-ad1b-62d9c2e44b3f",
   "metadata": {},
   "outputs": [
    {
     "name": "stdout",
     "output_type": "stream",
     "text": [
      "sot: 50257, translate: 50357, transcribe: 50358, length special ids: 107\n"
     ]
    }
   ],
   "source": [
    "whisper_tok = whisper.tokenizer.get_tokenizer(multilingual=False, task=\"transcribe\", language=\"en\")\n",
    "tokenizer = whisper_tok.tokenizer\n",
    "get_sot_ids(tokenizer)"
   ]
  },
  {
   "cell_type": "code",
   "execution_count": 78,
   "id": "08f0414e-4c8c-46b9-8be5-b6e662291a0f",
   "metadata": {},
   "outputs": [
    {
     "name": "stdout",
     "output_type": "stream",
     "text": [
      "sot: 50257, translate: 50357, transcribe: 50358, length special ids: 107\n"
     ]
    }
   ],
   "source": [
    "tokenizer = WhisperTokenizer.from_pretrained(\"openai/whisper-tiny.en\")\n",
    "get_sot_ids(tokenizer)"
   ]
  },
  {
   "cell_type": "markdown",
   "id": "19c5429e-d88f-41a0-9f0e-3677c0e7f3ab",
   "metadata": {},
   "source": [
    "### Multilingual"
   ]
  },
  {
   "cell_type": "code",
   "execution_count": 79,
   "id": "406a4d8a-0b58-4d9c-879c-df1243098e3a",
   "metadata": {},
   "outputs": [
    {
     "name": "stdout",
     "output_type": "stream",
     "text": [
      "sot: 50258, translate: 50358, transcribe: 50359, length special ids: 107\n"
     ]
    }
   ],
   "source": [
    "whisper_tok = whisper.tokenizer.get_tokenizer(multilingual=True, task=\"transcribe\", language=\"en\")\n",
    "tokenizer = whisper_tok.tokenizer\n",
    "get_sot_ids(tokenizer)"
   ]
  },
  {
   "cell_type": "code",
   "execution_count": 80,
   "id": "4452860a-5deb-4ee7-816f-2c4c9cf9ddbd",
   "metadata": {},
   "outputs": [
    {
     "name": "stdout",
     "output_type": "stream",
     "text": [
      "sot: 50256, translate: 50358, transcribe: 50359, length special ids: 109\n"
     ]
    }
   ],
   "source": [
    "tokenizer = WhisperTokenizer.from_pretrained(\"openai/whisper-tiny\")\n",
    "get_sot_ids(tokenizer)"
   ]
  },
  {
   "cell_type": "code",
   "execution_count": null,
   "id": "69d7c2c8-3693-4d80-b14c-5255d17adf03",
   "metadata": {},
   "outputs": [],
   "source": []
  }
 ],
 "metadata": {
  "kernelspec": {
   "display_name": "Python 3 (ipykernel)",
   "language": "python",
   "name": "python3"
  },
  "language_info": {
   "codemirror_mode": {
    "name": "ipython",
    "version": 3
   },
   "file_extension": ".py",
   "mimetype": "text/x-python",
   "name": "python",
   "nbconvert_exporter": "python",
   "pygments_lexer": "ipython3",
   "version": "3.8.9"
  }
 },
 "nbformat": 4,
 "nbformat_minor": 5
}
